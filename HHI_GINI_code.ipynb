{
 "cells": [
  {
   "cell_type": "code",
   "execution_count": 40,
   "id": "32ae1b8e",
   "metadata": {},
   "outputs": [],
   "source": [
    "# imports\n",
    "#bigqueryhelper\n",
    "from google.cloud import bigquery\n",
    "import pandas as pd\n",
    "import numpy as np\n",
    "import plotly\n",
    "from matplotlib import pyplot as plt\n",
    "import seaborn as sns\n",
    "sns.set_theme(style=\"whitegrid\")\n",
    "pd.set_option('display.float_format', lambda x: '%.3f' % x)"
   ]
  },
  {
   "cell_type": "code",
   "execution_count": 41,
   "id": "514f379e",
   "metadata": {},
   "outputs": [],
   "source": [
    "# API key verification for Google Cloud\n",
    "import os\n",
    "os.environ[\"GOOGLE_APPLICATION_CREDENTIALS\"]=\"/Users/davidhofhuizen/Projects/EDA_Bitcoin-ledger/rugged-ether-350608-2a8031aeb288.json\"\n",
    "client = bigquery.Client()"
   ]
  },
  {
   "cell_type": "markdown",
   "id": "84462c14",
   "metadata": {},
   "source": [
    "Functions"
   ]
  },
  {
   "cell_type": "code",
   "execution_count": 42,
   "id": "dc0b346c",
   "metadata": {},
   "outputs": [],
   "source": [
    "def run_query(query):\n",
    "    query_job = client.query(query)\n",
    "\n",
    "    iterator = query_job.result(timeout=120000)\n",
    "    rows = list(iterator)\n",
    "\n",
    "    # Transform the rows into a nice pandas dataframe\n",
    "    result = pd.DataFrame(data=[list(x.values()) for x in rows], columns=list(rows[0].keys()))\n",
    "    \n",
    "    return result"
   ]
  },
  {
   "cell_type": "code",
   "execution_count": 43,
   "id": "01f18bde",
   "metadata": {},
   "outputs": [],
   "source": [
    "gini_query =  '''\n",
    "WITH double_entry_book AS (\n",
    "    -- debits\n",
    "    SELECT\n",
    "     array_to_string(inputs.addresses, \",\") as address\n",
    "    , inputs.type\n",
    "    , -inputs.value as value\n",
    "    , block_timestamp\n",
    "    FROM `bigquery-public-data.crypto_bitcoin.inputs` as inputs\n",
    " \n",
    "    UNION ALL\n",
    " \n",
    "    -- credits\n",
    "    SELECT\n",
    "     array_to_string(outputs.addresses, \",\") as address\n",
    "    , outputs.type\n",
    "    , outputs.value as value\n",
    "    , block_timestamp\n",
    "    FROM `bigquery-public-data.crypto_bitcoin.outputs` as outputs\n",
    ")\n",
    ",double_entry_book_by_date as (\n",
    "    select \n",
    "        date(block_timestamp) as date, \n",
    "        address, \n",
    "        sum(value / POWER(10,0)) as value\n",
    "    from double_entry_book\n",
    "    group by address, date\n",
    ")\n",
    ",daily_balances_with_gaps as (\n",
    "    select \n",
    "        address, \n",
    "        date,\n",
    "        sum(value) over (partition by address order by date) as balance,\n",
    "        lead(date, 1, current_date()) over (partition by address order by date) as next_date\n",
    "        from double_entry_book_by_date\n",
    ")\n",
    ",calendar as (\n",
    "    select date from unnest(generate_date_array('2009-01-12', current_date())) as date\n",
    ")\n",
    ",daily_balances as (\n",
    "    select address, calendar.date, balance\n",
    "    from daily_balances_with_gaps\n",
    "    join calendar on daily_balances_with_gaps.date <= calendar.date and calendar.date < daily_balances_with_gaps.next_date\n",
    ")\n",
    ",supply as (\n",
    "    select\n",
    "        date,\n",
    "        sum(balance) as daily_supply\n",
    "    from daily_balances\n",
    "    group by date\n",
    ")\n",
    ",ranked_daily_balances as (\n",
    "    select \n",
    "        daily_balances.date,\n",
    "        balance,\n",
    "        row_number() over (partition by daily_balances.date order by balance desc) as rank\n",
    "    from daily_balances\n",
    "    join supply on daily_balances.date = supply.date\n",
    "    where safe_divide(balance, daily_supply) >= 0.0001\n",
    "    ORDER BY safe_divide(balance, daily_supply) DESC\n",
    ")\n",
    "\n",
    "select \n",
    "    date, \n",
    "    -- (1 − 2B) https://en.wikipedia.org/wiki/Gini_coefficient\n",
    "    1 - 2 * sum((balance * (rank - 1) + balance / 2)) / count(*) / sum(balance) as gini\n",
    "from ranked_daily_balances\n",
    "group by date\n",
    "order by date asc\n",
    "'''"
   ]
  },
  {
   "cell_type": "code",
   "execution_count": 45,
   "id": "cb59cab8",
   "metadata": {},
   "outputs": [],
   "source": [
    "addresses_HHI = '''\n",
    "WITH double_entry_book AS (\n",
    "   -- debits\n",
    "   SELECT array_to_string(inputs.addresses, \",\") as address, inputs.type, -inputs.value as value\n",
    "   FROM `bigquery-public-data.crypto_bitcoin.inputs` as inputs\n",
    "   UNION ALL\n",
    "   -- credits\n",
    "   SELECT array_to_string(outputs.addresses, \",\") as address, outputs.type, outputs.value as value\n",
    "   FROM `bigquery-public-data.crypto_bitcoin.outputs` as outputs\n",
    ")\n",
    "SELECT address, type, sum(value) as balance\n",
    "FROM double_entry_book\n",
    "GROUP BY address, type\n",
    "'''"
   ]
  }
 ],
 "metadata": {
  "interpreter": {
   "hash": "53c4057fdb9ef2046804a04e0e272d6691cd95d96aa5345faa603103c18d94fc"
  },
  "kernelspec": {
   "display_name": "Python 3.7.11 ('base')",
   "language": "python",
   "name": "python3"
  },
  "language_info": {
   "codemirror_mode": {
    "name": "ipython",
    "version": 3
   },
   "file_extension": ".py",
   "mimetype": "text/x-python",
   "name": "python",
   "nbconvert_exporter": "python",
   "pygments_lexer": "ipython3",
   "version": "3.7.13"
  }
 },
 "nbformat": 4,
 "nbformat_minor": 5
}
